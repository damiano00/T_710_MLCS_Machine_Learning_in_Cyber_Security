{
 "cells": [
  {
   "cell_type": "code",
   "execution_count": 34,
   "id": "initial_id",
   "metadata": {
    "collapsed": true,
    "ExecuteTime": {
     "end_time": "2023-09-29T17:48:32.226855800Z",
     "start_time": "2023-09-29T17:48:32.224342300Z"
    }
   },
   "outputs": [],
   "source": [
    "\n",
    "'''\n",
    "Author: Damiano Pasquini\n",
    "email: damiano23@ru.is\n",
    "'''\n",
    "\n",
    "# imports and configs\n",
    "import pandas as pd\n",
    "from sklearn.feature_extraction.text import CountVectorizer\n",
    "path = './dataset'"
   ]
  },
  {
   "cell_type": "code",
   "execution_count": 35,
   "outputs": [],
   "source": [
    "def read_data(path):\n",
    "    \"\"\"\n",
    "    Reads the data from the csv file and returns a pandas dataframe\n",
    "    :param path: path to the csv file\n",
    "    :return: pandas dataframe\n",
    "    \"\"\"\n",
    "    with open(path+\"/api_trace.csv\", 'r') as data_file:\n",
    "        data = [str(line.split(',')) for line in data_file]\n",
    "    with open(path+\"/apt_trace_labels.txt\", 'r') as label_file:\n",
    "        labels = [line for line in label_file]\n",
    "    return pd.DataFrame({'traces':data,'labels':labels})"
   ],
   "metadata": {
    "collapsed": false,
    "ExecuteTime": {
     "end_time": "2023-09-29T17:48:32.237664900Z",
     "start_time": "2023-09-29T17:48:32.230185100Z"
    }
   },
   "id": "793951ac396d92b8"
  },
  {
   "cell_type": "code",
   "execution_count": 36,
   "outputs": [],
   "source": [
    "def preprocess(df):\n",
    "    \"\"\"\n",
    "    Preprocess the dataframe and returns the X and y for the training and test set\n",
    "    :param df: pandas dataframe\n",
    "    :return: X_train, y_train, X_test, y_test\n",
    "    \"\"\"\n",
    "    df.drop_duplicates(subset=['traces'], inplace=True)\n",
    "    vectorizer = CountVectorizer()\n",
    "    X_train = vectorizer.fit_transform(df['traces'][:int(0.7*len(df['traces']))])\n",
    "    y_train = df['labels'][:int(0.7*len(df['labels']))]\n",
    "    X_test = vectorizer.fit_transform(df['traces'][int(0.3*len(df['traces'])):])\n",
    "    y_test = df['labels'][int(0.3*len(df['labels'])):]\n",
    "    \n",
    "    return X_train, y_train, X_test, y_test"
   ],
   "metadata": {
    "collapsed": false,
    "ExecuteTime": {
     "end_time": "2023-09-29T17:48:32.244672200Z",
     "start_time": "2023-09-29T17:48:32.237155100Z"
    }
   },
   "id": "1d0323d96f1b9be0"
  },
  {
   "cell_type": "code",
   "execution_count": 37,
   "outputs": [
    {
     "data": {
      "text/plain": "(<4131x272 sparse matrix of type '<class 'numpy.int64'>'\n \twith 177900 stored elements in Compressed Sparse Row format>,\n 0          Dropper\\n\n 1            Worms\\n\n 2       Downloader\\n\n 3          Spyware\\n\n 4            Worms\\n\n             ...     \n 4397       Dropper\\n\n 4398        Adware\\n\n 4399        Trojan\\n\n 4400      Backdoor\\n\n 4401        Trojan\\n\n Name: labels, Length: 4131, dtype: object,\n <4132x271 sparse matrix of type '<class 'numpy.int64'>'\n \twith 178259 stored elements in Compressed Sparse Row format>,\n 1838       Spyware\\n\n 1839         Virus\\n\n 1840       Dropper\\n\n 1841      Backdoor\\n\n 1843       Spyware\\n\n             ...     \n 6391      Backdoor\\n\n 6392       Spyware\\n\n 6393       Spyware\\n\n 6394    Downloader\\n\n 6395          Adware\n Name: labels, Length: 4132, dtype: object)"
     },
     "execution_count": 37,
     "metadata": {},
     "output_type": "execute_result"
    }
   ],
   "source": [
    "preprocess(read_data(path))"
   ],
   "metadata": {
    "collapsed": false,
    "ExecuteTime": {
     "end_time": "2023-09-29T17:49:55.047061900Z",
     "start_time": "2023-09-29T17:48:32.242672400Z"
    }
   },
   "id": "f42bf2ff7ec685d1"
  }
 ],
 "metadata": {
  "kernelspec": {
   "display_name": "Python 3",
   "language": "python",
   "name": "python3"
  },
  "language_info": {
   "codemirror_mode": {
    "name": "ipython",
    "version": 2
   },
   "file_extension": ".py",
   "mimetype": "text/x-python",
   "name": "python",
   "nbconvert_exporter": "python",
   "pygments_lexer": "ipython2",
   "version": "2.7.6"
  }
 },
 "nbformat": 4,
 "nbformat_minor": 5
}
