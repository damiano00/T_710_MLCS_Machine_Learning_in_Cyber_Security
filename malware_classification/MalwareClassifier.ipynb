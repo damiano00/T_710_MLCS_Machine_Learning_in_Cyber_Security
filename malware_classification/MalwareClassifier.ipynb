{
 "cells": [
  {
   "cell_type": "code",
   "execution_count": 56,
   "id": "initial_id",
   "metadata": {
    "collapsed": true,
    "ExecuteTime": {
     "end_time": "2023-09-30T12:13:03.205377900Z",
     "start_time": "2023-09-30T12:13:03.195987300Z"
    }
   },
   "outputs": [],
   "source": [
    "\n",
    "'''\n",
    "Author: Damiano Pasquini\n",
    "email: damiano23@ru.is\n",
    "'''\n",
    "\n",
    "# imports and configs\n",
    "import pandas as pd\n",
    "from sklearn.feature_extraction.text import CountVectorizer\n",
    "from sklearn.naive_bayes import MultinomialNB\n",
    "from sklearn.neighbors import KNeighborsClassifier\n",
    "from sklearn.linear_model import LogisticRegression\n",
    "from sklearn.tree import DecisionTreeClassifier\n",
    "from sklearn.ensemble import RandomForestClassifier\n",
    "from sklearn.metrics import confusion_matrix\n",
    "from sklearn.model_selection import train_test_split\n",
    "import seaborn as sns\n",
    "from sklearn.metrics import accuracy_score\n",
    "\n",
    "path = './dataset'"
   ]
  },
  {
   "cell_type": "code",
   "execution_count": 57,
   "outputs": [],
   "source": [
    "def read_data(path):\n",
    "    \"\"\"\n",
    "    Reads the data from the csv file and returns a pandas dataframe\n",
    "    :param path: path to the csv file\n",
    "    :return: pandas dataframe\n",
    "    \"\"\"\n",
    "    with open(path+\"/api_trace.csv\", 'r') as data_file:\n",
    "        data = [str(line.split(',')) for line in data_file]\n",
    "    with open(path+\"/apt_trace_labels.txt\", 'r') as label_file:\n",
    "        labels = [line for line in label_file]\n",
    "    return pd.DataFrame({'traces':data,'labels':labels})"
   ],
   "metadata": {
    "collapsed": false,
    "ExecuteTime": {
     "end_time": "2023-09-30T12:13:03.216374200Z",
     "start_time": "2023-09-30T12:13:03.201009200Z"
    }
   },
   "id": "793951ac396d92b8"
  },
  {
   "cell_type": "code",
   "execution_count": 63,
   "outputs": [],
   "source": [
    "def preprocess(df):\n",
    "    \"\"\"\n",
    "    Preprocess the dataframe and returns the X and y for the training and test set\n",
    "    :param df: pandas dataframe\n",
    "    :return: X_train, X_test, y_train, y_test\n",
    "    \"\"\"\n",
    "    df.drop_duplicates(subset=['traces'], inplace=True)\n",
    "    X_train, X_test, y_train, y_test = train_test_split(df['traces'], df['labels'], test_size=0.3, random_state=42)\n",
    "    vectorizer = CountVectorizer()\n",
    "    X_train = vectorizer.fit_transform(X_train)\n",
    "    X_test = vectorizer.transform(X_test)\n",
    "    return X_train, X_test, y_train, y_test"
   ],
   "metadata": {
    "collapsed": false,
    "ExecuteTime": {
     "end_time": "2023-09-30T12:45:17.623660Z",
     "start_time": "2023-09-30T12:45:17.607726Z"
    }
   },
   "id": "1d0323d96f1b9be0"
  },
  {
   "cell_type": "code",
   "execution_count": 59,
   "outputs": [],
   "source": [
    "def train_classifier(X_train, X_test, y_train, y_test, classifier = MultinomialNB()):\n",
    "    \"\"\"\n",
    "    Trains the classifier and prints the confusion matrix\n",
    "    :param X_train: training set\n",
    "    :param X_test: test set\n",
    "    :param y_train: training labels\n",
    "    :param y_test: test labels\n",
    "    :param classifier: classifier to use\n",
    "    :return: accuracy score\n",
    "    \"\"\"\n",
    "    cf = classifier\n",
    "    cf.fit(X_train, y_train)\n",
    "    y_pred = cf.predict(X_test)\n",
    "    return accuracy_score(y_test, y_pred)"
   ],
   "metadata": {
    "collapsed": false,
    "ExecuteTime": {
     "end_time": "2023-09-30T12:13:03.244933Z",
     "start_time": "2023-09-30T12:13:03.217110500Z"
    }
   },
   "id": "f7d8fe10443aac1f"
  },
  {
   "cell_type": "code",
   "execution_count": 62,
   "outputs": [
    {
     "data": {
      "text/plain": "0.45300592718035565"
     },
     "execution_count": 62,
     "metadata": {},
     "output_type": "execute_result"
    }
   ],
   "source": [
    "X_train, X_test, y_train, y_test = preprocess(read_data(path))\n",
    "train_classifier(X_train, X_test, y_train, y_test, classifier = KNeighborsClassifier())"
   ],
   "metadata": {
    "collapsed": false,
    "ExecuteTime": {
     "end_time": "2023-09-30T12:18:46.509590100Z",
     "start_time": "2023-09-30T12:16:49.997103700Z"
    }
   },
   "id": "f42bf2ff7ec685d1"
  }
 ],
 "metadata": {
  "kernelspec": {
   "display_name": "Python 3",
   "language": "python",
   "name": "python3"
  },
  "language_info": {
   "codemirror_mode": {
    "name": "ipython",
    "version": 2
   },
   "file_extension": ".py",
   "mimetype": "text/x-python",
   "name": "python",
   "nbconvert_exporter": "python",
   "pygments_lexer": "ipython2",
   "version": "2.7.6"
  }
 },
 "nbformat": 4,
 "nbformat_minor": 5
}
