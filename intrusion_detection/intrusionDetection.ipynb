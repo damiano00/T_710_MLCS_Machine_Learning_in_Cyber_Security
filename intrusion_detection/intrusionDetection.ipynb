{
 "cells": [
  {
   "cell_type": "code",
   "execution_count": 15,
   "id": "d9cee6fd60c2a930",
   "metadata": {
    "collapsed": true,
    "ExecuteTime": {
     "end_time": "2023-09-16T20:14:30.551557Z",
     "start_time": "2023-09-16T20:14:30.339717100Z"
    }
   },
   "outputs": [],
   "source": [
    "\n",
    "\n",
    "'''\n",
    "Author: Damiano Pasquini\n",
    "email: damiano23@ru.is\n",
    "'''\n",
    "\n",
    "import os\n",
    "import pandas as pd\n",
    "import numpy as np\n",
    "import sklearn\n",
    "import matplotlib.pyplot as plt\n",
    "from sklearn.ensemble import RandomForestClassifier\n",
    "from sklearn.preprocessing import OneHotEncoder\n",
    "from sklearn import metrics\n",
    "from sklearn.tree import DecisionTreeClassifier\n",
    "from sklearn.metrics import classification_report, confusion_matrix, accuracy_score\n",
    "\n",
    "path = \"./MachineLearningCVE\"\n"
   ]
  },
  {
   "cell_type": "code",
   "execution_count": 2,
   "outputs": [],
   "source": [
    "\n",
    "def preprocess_data(data_frame):\n",
    "    \"\"\"\n",
    "    Preprocess the columns of the given dataframe\n",
    "    :param data_frame: dataframe to preprocess\n",
    "    :return: the preprocessed dataframe\n",
    "    \"\"\"\n",
    "    data_frame.rename(columns=lambda x: x.strip(), inplace=True)  # Remove leading/trailing spaces from column names\n",
    "    data_frame[\"Label\"] = data_frame[\"Label\"].apply(lambda x: x.strip()) # Remove leading/trailing spaces from column values\n",
    "    data_frame.replace([np.inf], np.finfo(np.float32).max, inplace=True) # Replace inf values with max of float 32\n",
    "    data_frame.replace([-np.inf], -np.finfo(np.float32).min, inplace=True) # Replace inf values with min value of float 32\n",
    "    data_frame.fillna(0, inplace=True) # Replace all NaN values with 0\n",
    "    data_frame[\"Label\"] = data_frame[\"Label\"].apply(lambda x : preprocess_label_column(x)) # Preprocess the column \"Label\"\n",
    "    encoder = OneHotEncoder() # One hot encode the column \"Label\"\n",
    "    encoded_data = encoder.fit_transform(data_frame[['Label']])    \n",
    "    encoded_df = pd.DataFrame(encoded_data.toarray(), columns=encoder.get_feature_names_out(['Label']))\n",
    "    return encoded_df"
   ],
   "metadata": {
    "collapsed": false,
    "ExecuteTime": {
     "end_time": "2023-09-16T20:02:53.562894Z",
     "start_time": "2023-09-16T20:02:53.558692500Z"
    }
   },
   "id": "188e9c38476a3557"
  },
  {
   "cell_type": "code",
   "execution_count": 3,
   "outputs": [],
   "source": [
    "def preprocess_label_column(label):\n",
    "    \"\"\"\n",
    "    Transform the content of the column \"Label\". If the value is \"BENIGN\" then it is changed to \"Benign\", if it contains \"DoS\" then \n",
    "    it is changed to \"DoS\", if it contains \"PortScan\" then it is changed to \"Scan\", otherwise it is changed to \"Exploit\"\n",
    "    :param label: row of the column \"Label\" of the dataset\n",
    "    :return: the value to be assigned to the row of the column \"Label\" of the dataset\n",
    "    \"\"\"\n",
    "    if \"BENIGN\" in label:\n",
    "        return \"Benign\"\n",
    "    elif \"DoS\" in label:\n",
    "        return \"DoS\"\n",
    "    elif \"PortScan\" in label:\n",
    "        return \"Scan\"\n",
    "    else:\n",
    "        return \"Exploit\""
   ],
   "metadata": {
    "collapsed": false,
    "ExecuteTime": {
     "end_time": "2023-09-16T20:02:53.568140900Z",
     "start_time": "2023-09-16T20:02:53.560197400Z"
    }
   },
   "id": "aab6f1aa53a7de92"
  },
  {
   "cell_type": "code",
   "execution_count": 4,
   "outputs": [],
   "source": [
    "\n",
    "def merge_csv_files(path_to_csv_files, index=True, write_to_file=False):\n",
    "    \"\"\"\n",
    "    Merge all the csv files in the given directory into a single dataframe\n",
    "    :param path_to_csv_files: directory where the csv files are located\n",
    "    :param index: write row names if true\n",
    "    :param write_to_file: write the merged dataframe to a csv file if true\n",
    "    :return: the merged dataframe\n",
    "    \"\"\"\n",
    "    csv_files = [f for f in os.listdir(path_to_csv_files) if f.endswith('.csv')]\n",
    "    dfs = [pd.read_csv(os.path.join(path_to_csv_files, f)) for f in csv_files]\n",
    "    df = pd.concat(dfs, ignore_index=True)\n",
    "    if write_to_file:\n",
    "        df.to_csv(\"./combined.csv\", index=index)\n",
    "    return df"
   ],
   "metadata": {
    "collapsed": false,
    "ExecuteTime": {
     "end_time": "2023-09-16T20:02:53.568140900Z",
     "start_time": "2023-09-16T20:02:53.568140900Z"
    }
   },
   "id": "d533d0c26d8674f3"
  },
  {
   "cell_type": "code",
   "execution_count": 14,
   "outputs": [],
   "source": [
    "def train_test_by_days(path_to_files):\n",
    "    \"\"\"\n",
    "    Split the dataset in training and testing dataset by days\n",
    "    :param path_to_files: directory where the csv files are located\n",
    "    :return: d_train and d_test, relatively training dataset and testing dataset\n",
    "    \"\"\"\n",
    "    d_train = pd.DataFrame()\n",
    "    d_test = pd.DataFrame()\n",
    "    for file in os.listdir(path_to_files):\n",
    "        if file.endswith(\".csv\"):\n",
    "            day = file.split(\"-\")[0]\n",
    "            with open(os.path.join(path_to_files, file), \"r\") as f:\n",
    "                df = pd.read_csv(f)\n",
    "                if day in [\"Monday\", \"Tuesday\", \"Wednesday\"]:\n",
    "                    d_train = pd.concat([d_train, df])\n",
    "                else:\n",
    "                    d_test = pd.concat([d_test, df])\n",
    "    preprocess_data(d_train)\n",
    "    preprocess_data(d_test)\n",
    "    # d_train.to_csv(\"train_data_by_days.csv\")\n",
    "    # d_test.to_csv(\"test_data_by_days.csv\")\n",
    "    return d_train, d_test"
   ],
   "metadata": {
    "collapsed": false,
    "ExecuteTime": {
     "end_time": "2023-09-16T20:14:30.339717100Z",
     "start_time": "2023-09-16T20:14:30.334018400Z"
    }
   },
   "id": "d35a5286f90168bf"
  },
  {
   "cell_type": "code",
   "execution_count": 6,
   "outputs": [],
   "source": [
    "\n",
    "def get_dataset(path_to_files, splitmode=None):\n",
    "    \"\"\"\n",
    "    Function to obtain the train dataset and the test dataset given the path where the csv files are,\n",
    "    and the percentage of training dataset\n",
    "    :param path_to_files: directory where the csv files are located \n",
    "    :param splitmode: number between 0 and 1, if specified indicates the percentage of the train set (d_train)  \n",
    "    :return: d_train and d_test, relatively training dataset and testing dataset\n",
    "    \"\"\"\n",
    "    if splitmode is not None and (splitmode < 0 or splitmode > 1):\n",
    "        raise ValueError(\"splitmode should be between 0 and 1\")\n",
    "    \n",
    "    d_train = pd.DataFrame()\n",
    "    d_test = pd.DataFrame()\n",
    "    if splitmode:\n",
    "        df = merge_csv_files(path_to_files)\n",
    "        preprocess_data(df)\n",
    "        df = sklearn.utils.shuffle(df)\n",
    "        split_index = int(len(df) * splitmode)\n",
    "        d_train = pd.concat([d_train, df[:split_index]])\n",
    "        d_test = pd.concat([d_test, df[split_index:]])\n",
    "    else:\n",
    "        d_train, d_test = train_test_by_days(path_to_files)\n",
    "    return d_train, d_test"
   ],
   "metadata": {
    "collapsed": false,
    "ExecuteTime": {
     "end_time": "2023-09-16T20:02:56.605698600Z",
     "start_time": "2023-09-16T20:02:56.605698600Z"
    }
   },
   "id": "408c64b667aca2fd"
  },
  {
   "cell_type": "code",
   "execution_count": 7,
   "outputs": [],
   "source": [
    "def split_x_y(data):\n",
    "    \"\"\"\n",
    "    Split the dataset in data and labels (relatively X and y)\n",
    "    :param data: dataset\n",
    "    :return: tuple X and y, relatively data and labels for the given dataset\n",
    "    \"\"\"\n",
    "    X = data.drop(columns=[\"Label\"])\n",
    "    y = data[\"Label\"]\n",
    "    return X, y"
   ],
   "metadata": {
    "collapsed": false,
    "ExecuteTime": {
     "end_time": "2023-09-16T20:02:58.081317300Z",
     "start_time": "2023-09-16T20:02:58.078799400Z"
    }
   },
   "id": "initial_id"
  },
  {
   "cell_type": "code",
   "execution_count": 16,
   "outputs": [],
   "source": [
    "'''preprocess data with train set 60%'''\n",
    "train_set, test_set = get_dataset(path, splitmode=0.6)\n",
    "X_train, y_train = split_x_y(train_set)\n",
    "X_test, y_test = split_x_y(test_set)"
   ],
   "metadata": {
    "collapsed": false,
    "ExecuteTime": {
     "end_time": "2023-09-16T20:18:37.501048300Z",
     "start_time": "2023-09-16T20:18:19.782757200Z"
    }
   },
   "id": "c9fd6b0013cff10"
  },
  {
   "cell_type": "code",
   "execution_count": 19,
   "outputs": [],
   "source": [
    "'''preprocess data splitting by days'''\n",
    "train_set, test_set = get_dataset(path)\n",
    "X_train, y_train = split_x_y(train_set)\n",
    "X_test, y_test = split_x_y(test_set)"
   ],
   "metadata": {
    "collapsed": false,
    "ExecuteTime": {
     "end_time": "2023-09-16T20:33:04.459182600Z",
     "start_time": "2023-09-16T20:32:47.168843800Z"
    }
   },
   "id": "2c0dedc974b3e33d"
  },
  {
   "cell_type": "code",
   "execution_count": 12,
   "outputs": [],
   "source": [
    "'''train the decision tree classifier'''\n",
    "cf = DecisionTreeClassifier()\n",
    "cf.fit(X_train, y_train)\n",
    "y_pred = cf.predict(X_test)"
   ],
   "metadata": {
    "collapsed": false,
    "ExecuteTime": {
     "end_time": "2023-09-16T20:14:08.003588400Z",
     "start_time": "2023-09-16T20:11:59.510026300Z"
    }
   },
   "id": "19b516cb08a26211"
  },
  {
   "cell_type": "code",
   "execution_count": 20,
   "outputs": [],
   "source": [
    "'''train the random forest classifier'''\n",
    "cf = RandomForestClassifier()\n",
    "cf.fit(X_train, y_train)\n",
    "y_pred = cf.predict(X_test)"
   ],
   "metadata": {
    "collapsed": false,
    "ExecuteTime": {
     "end_time": "2023-09-16T20:42:45.104549900Z",
     "start_time": "2023-09-16T20:33:04.466197200Z"
    }
   },
   "id": "ab66160c511cb3e8"
  },
  {
   "cell_type": "code",
   "execution_count": 21,
   "outputs": [
    {
     "name": "stdout",
     "output_type": "stream",
     "text": [
      "Accuracy:  0.8188774346871013\n",
      "              precision    recall  f1-score   support\n",
      "\n",
      "      Benign       0.81      1.00      0.89    871074\n",
      "         DoS       0.99      0.63      0.77    128027\n",
      "     Exploit       1.00      0.00      0.00      4182\n",
      "        Scan       0.00      0.00      0.00    158930\n",
      "\n",
      "    accuracy                           0.82   1162213\n",
      "   macro avg       0.70      0.41      0.42   1162213\n",
      "weighted avg       0.72      0.82      0.75   1162213\n"
     ]
    },
    {
     "data": {
      "text/plain": "<Figure size 640x480 with 2 Axes>",
      "image/png": "[encoded data removed]"
     },
     "metadata": {},
     "output_type": "display_data"
    }
   ],
   "source": [
    "'''Print accuracy, classification report and confusion matrix'''\n",
    "print(\"Accuracy: \", accuracy_score(y_test, y_pred))\n",
    "print(classification_report(y_test, y_pred, zero_division=0.0))\n",
    "cm = confusion_matrix(y_test, y_pred)\n",
    "cm = metrics.ConfusionMatrixDisplay(confusion_matrix = cm, display_labels = [\"DoS\", \"Scan\", \"Benign\", \"Exploit\"])\n",
    "cm.plot()\n",
    "plt.show()"
   ],
   "metadata": {
    "collapsed": false,
    "ExecuteTime": {
     "end_time": "2023-09-16T20:43:07.378630300Z",
     "start_time": "2023-09-16T20:42:45.110273500Z"
    }
   },
   "id": "ae1e18e28ac5455"
  }
 ],
 "metadata": {
  "kernelspec": {
   "display_name": "Python 3",
   "language": "python",
   "name": "python3"
  },
  "language_info": {
   "codemirror_mode": {
    "name": "ipython",
    "version": 2
   },
   "file_extension": ".py",
   "mimetype": "text/x-python",
   "name": "python",
   "nbconvert_exporter": "python",
   "pygments_lexer": "ipython2",
   "version": "2.7.6"
  }
 },
 "nbformat": 4,
 "nbformat_minor": 5
}
