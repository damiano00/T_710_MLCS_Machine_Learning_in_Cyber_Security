{
 "cells": [
  {
   "cell_type": "code",
   "execution_count": 1,
   "id": "d9cee6fd60c2a930",
   "metadata": {
    "collapsed": true,
    "ExecuteTime": {
     "end_time": "2023-09-17T14:39:07.424417Z",
     "start_time": "2023-09-17T14:39:05.931619700Z"
    }
   },
   "outputs": [],
   "source": [
    "\n",
    "'''\n",
    "Author: Damiano Pasquini\n",
    "email: damiano23@ru.is\n",
    "'''\n",
    "\n",
    "import os, sklearn, graphviz, logging\n",
    "import pandas as pd\n",
    "import numpy as np\n",
    "import matplotlib.pyplot as plt\n",
    "from sklearn.ensemble import RandomForestClassifier\n",
    "from sklearn.preprocessing import OneHotEncoder\n",
    "from sklearn import metrics\n",
    "from sklearn.tree import DecisionTreeClassifier\n",
    "from sklearn.metrics import classification_report, confusion_matrix, accuracy_score"
   ]
  },
  {
   "cell_type": "code",
   "execution_count": 2,
   "outputs": [],
   "source": [
    "\n",
    "def preprocess_data(data_frame):\n",
    "    \"\"\"\n",
    "    Preprocess the columns of the given dataframe\n",
    "    :param data_frame: data frame to preprocess\n",
    "    :return: the preprocessed dataframe\n",
    "    \"\"\"\n",
    "    data_frame.rename(columns=lambda x: x.strip(), inplace=True)  # Remove leading/trailing spaces from column names\n",
    "    data_frame[\"Label\"] = data_frame[\"Label\"].apply(lambda x: x.strip()) # Remove leading/trailing spaces from column values\n",
    "    data_frame.replace([np.inf], np.finfo(np.float32).max, inplace=True) # Replace inf values with max of float 32\n",
    "    data_frame.replace([-np.inf], -np.finfo(np.float32).min, inplace=True) # Replace inf values with min value of float 32\n",
    "    data_frame.fillna(0, inplace=True) # Replace all NaN values with 0\n",
    "    data_frame[\"Label\"] = data_frame[\"Label\"].apply(lambda x : preprocess_label_column(x)) # Preprocess the column \"Label\"\n",
    "    encoder = OneHotEncoder() # One hot encode the column \"Label\"\n",
    "    encoded_data = encoder.fit_transform(data_frame[['Label']])    \n",
    "    encoded_df = pd.DataFrame(encoded_data.toarray(), columns=encoder.get_feature_names_out(['Label']))\n",
    "    return encoded_df"
   ],
   "metadata": {
    "collapsed": false,
    "ExecuteTime": {
     "end_time": "2023-09-17T14:39:07.431682800Z",
     "start_time": "2023-09-17T14:39:07.428676300Z"
    }
   },
   "id": "188e9c38476a3557"
  },
  {
   "cell_type": "code",
   "execution_count": 3,
   "outputs": [],
   "source": [
    "def preprocess_label_column(label):\n",
    "    \"\"\"\n",
    "    Transform the content of the column \"Label\". If the value is \"BENIGN\" then it is changed to \"Benign\", if it contains \"DoS\" then \n",
    "    it is changed to \"DoS\", if it contains \"PortScan\" then it is changed to \"Scan\", otherwise it is changed to \"Exploit\"\n",
    "    :param label: row of the column \"Label\" of the dataset\n",
    "    :return: the value to be assigned to the row of the column \"Label\" of the dataset\n",
    "    \"\"\"\n",
    "    if \"BENIGN\" in label:\n",
    "        return \"Benign\"\n",
    "    elif \"DoS\" in label:\n",
    "        return \"DoS\"\n",
    "    elif \"PortScan\" in label:\n",
    "        return \"Scan\"\n",
    "    else:\n",
    "        return \"Exploit\""
   ],
   "metadata": {
    "collapsed": false,
    "ExecuteTime": {
     "end_time": "2023-09-17T14:39:07.441609500Z",
     "start_time": "2023-09-17T14:39:07.431682800Z"
    }
   },
   "id": "aab6f1aa53a7de92"
  },
  {
   "cell_type": "code",
   "execution_count": 4,
   "outputs": [],
   "source": [
    "\n",
    "def merge_csv_files(path_to_csv_files, index=True, write_to_file=False):\n",
    "    \"\"\"\n",
    "    Merge all the csv files in the given directory into a single dataframe\n",
    "    :param path_to_csv_files: directory where the csv files are located\n",
    "    :param index: write row names if true\n",
    "    :param write_to_file: write the merged dataframe to a csv file if true\n",
    "    :return: the merged dataframe\n",
    "    \"\"\"\n",
    "    csv_files = [f for f in os.listdir(path_to_csv_files) if f.endswith('.csv')]\n",
    "    dfs = [pd.read_csv(os.path.join(path_to_csv_files, f)) for f in csv_files]\n",
    "    df = pd.concat(dfs, ignore_index=True)\n",
    "    if write_to_file:\n",
    "        df.to_csv(\"./combined.csv\", index=index)\n",
    "    return df"
   ],
   "metadata": {
    "collapsed": false,
    "ExecuteTime": {
     "end_time": "2023-09-17T14:39:07.445357100Z",
     "start_time": "2023-09-17T14:39:07.441609500Z"
    }
   },
   "id": "d533d0c26d8674f3"
  },
  {
   "cell_type": "code",
   "execution_count": 5,
   "outputs": [],
   "source": [
    "def train_test_by_days(path_to_files):\n",
    "    \"\"\"\n",
    "    Split the dataset in training and testing dataset by days\n",
    "    :param path_to_files: directory where the csv files are located\n",
    "    :return: d_train and d_test, relatively training dataset and testing dataset\n",
    "    \"\"\"\n",
    "    d_train = pd.DataFrame()\n",
    "    d_test = pd.DataFrame()\n",
    "    for file in os.listdir(path_to_files):\n",
    "        if file.endswith(\".csv\"):\n",
    "            day = file.split(\"-\")[0]\n",
    "            with open(os.path.join(path_to_files, file), \"r\") as f:\n",
    "                df = pd.read_csv(f)\n",
    "                if day in [\"Monday\", \"Tuesday\", \"Wednesday\"]:\n",
    "                    d_train = pd.concat([d_train, df])\n",
    "                else:\n",
    "                    d_test = pd.concat([d_test, df])\n",
    "    pre_process_data(d_train)\n",
    "    pre_process_data(d_test)\n",
    "    return d_train, d_test"
   ],
   "metadata": {
    "collapsed": false,
    "ExecuteTime": {
     "end_time": "2023-09-17T14:39:07.451263Z",
     "start_time": "2023-09-17T14:39:07.445357100Z"
    }
   },
   "id": "d35a5286f90168bf"
  },
  {
   "cell_type": "code",
   "execution_count": 6,
   "outputs": [],
   "source": [
    "\n",
    "def get_dataset(path_to_files, splitmode=None):\n",
    "    \"\"\"\n",
    "    Function to obtain the train dataset and the test dataset given the path where the csv files are,\n",
    "    and the percentage of training dataset\n",
    "    :param path_to_files: directory where the csv files are located \n",
    "    :param splitmode: number between 0 and 1, if specified indicates the percentage of the train set (d_train)  \n",
    "    :return: d_train and d_test, relatively training dataset and testing dataset\n",
    "    \"\"\"\n",
    "    if splitmode is not None and (splitmode < 0 or splitmode > 1):\n",
    "        raise ValueError(\"splitmode should be between 0 and 1\")\n",
    "    \n",
    "    d_train = pd.DataFrame()\n",
    "    d_test = pd.DataFrame()\n",
    "    if splitmode:\n",
    "        df = merge_csv_files(path_to_files)\n",
    "        pre_process_data(df)\n",
    "        df = sklearn.utils.shuffle(df)\n",
    "        split_index = int(len(df) * splitmode)\n",
    "        d_train = pd.concat([d_train, df[:split_index]])\n",
    "        d_test = pd.concat([d_test, df[split_index:]])\n",
    "    else:\n",
    "        d_train, d_test = train_test_by_days(path_to_files)\n",
    "    return d_train, d_test"
   ],
   "metadata": {
    "collapsed": false,
    "ExecuteTime": {
     "end_time": "2023-09-17T14:39:07.460297500Z",
     "start_time": "2023-09-17T14:39:07.451263Z"
    }
   },
   "id": "408c64b667aca2fd"
  },
  {
   "cell_type": "code",
   "execution_count": 7,
   "outputs": [],
   "source": [
    "def split_x_y(data):\n",
    "    \"\"\"\n",
    "    Split the dataset in data and labels (relatively X and y)\n",
    "    :param data: dataset\n",
    "    :return: tuple X and y, relatively data and labels for the given dataset\n",
    "    \"\"\"\n",
    "    X = data.drop(columns=[\"Label\"])\n",
    "    y = data[\"Label\"]\n",
    "    return X, y"
   ],
   "metadata": {
    "collapsed": false,
    "ExecuteTime": {
     "end_time": "2023-09-17T14:39:07.472221900Z",
     "start_time": "2023-09-17T14:39:07.459791800Z"
    }
   },
   "id": "initial_id"
  },
  {
   "cell_type": "code",
   "execution_count": 8,
   "outputs": [],
   "source": [
    "'''preprocess data splitting by days'''\n",
    "def pre_process_data(dataset_path, splitmode=None):\n",
    "    train_set, test_set = get_dataset(dataset_path, splitmode=splitmode)\n",
    "    X_train, y_train = split_x_y(train_set)\n",
    "    X_test, y_test = split_x_y(test_set)\n",
    "    return X_train, y_train, X_test, y_test"
   ],
   "metadata": {
    "collapsed": false,
    "ExecuteTime": {
     "end_time": "2023-09-17T14:39:07.472221900Z",
     "start_time": "2023-09-17T14:39:07.461307900Z"
    }
   },
   "id": "2c0dedc974b3e33d"
  },
  {
   "cell_type": "code",
   "execution_count": 9,
   "outputs": [],
   "source": [
    "'''train the decision tree classifier'''\n",
    "def train_decision_tree_classifier(X_train, y_train, X_test, y_test):\n",
    "    clf = DecisionTreeClassifier()\n",
    "    clf.fit(X_train, y_train)\n",
    "    y_pred = clf.predict(X_test)\n",
    "    print_metrics(y_test, y_pred)\n",
    "    return clf"
   ],
   "metadata": {
    "collapsed": false,
    "ExecuteTime": {
     "end_time": "2023-09-17T14:39:07.472221900Z",
     "start_time": "2023-09-17T14:39:07.465577100Z"
    }
   },
   "id": "19b516cb08a26211"
  },
  {
   "cell_type": "code",
   "execution_count": 10,
   "outputs": [],
   "source": [
    "'''train the random forest classifier'''\n",
    "def train_random_forest_classifier(X_train, y_train, X_test, y_test):\n",
    "    clf = RandomForestClassifier()\n",
    "    clf.fit(X_train, y_train)\n",
    "    y_pred = clf.predict(X_test)\n",
    "    print_metrics(y_test, y_pred)"
   ],
   "metadata": {
    "collapsed": false,
    "ExecuteTime": {
     "end_time": "2023-09-17T14:39:07.472221900Z",
     "start_time": "2023-09-17T14:39:07.468785800Z"
    }
   },
   "id": "ab66160c511cb3e8"
  },
  {
   "cell_type": "code",
   "execution_count": 11,
   "outputs": [],
   "source": [
    "'''Print accuracy, classification report and confusion matrix'''\n",
    "def print_metrics(y_test, y_pred):\n",
    "    print(\"Accuracy: \", accuracy_score(y_test, y_pred))\n",
    "    print(classification_report(y_test, y_pred, zero_division=0.0))\n",
    "    cm = confusion_matrix(y_test, y_pred)\n",
    "    cm = metrics.ConfusionMatrixDisplay(confusion_matrix = cm,\n",
    "                                        display_labels = [\"DoS\", \"Scan\", \"Benign\", \"Exploit\"])\n",
    "    cm.plot()\n",
    "    plt.show()"
   ],
   "metadata": {
    "collapsed": false,
    "ExecuteTime": {
     "end_time": "2023-09-17T14:39:07.479984500Z",
     "start_time": "2023-09-17T14:39:07.476054500Z"
    }
   },
   "id": "ae1e18e28ac5455"
  },
  {
   "cell_type": "code",
   "execution_count": 12,
   "outputs": [],
   "source": [
    "'''plot the decision tree with graphviz and save it in a pdf file'''\n",
    "def plot_decision_tree(clf, X_train):\n",
    "    dot_data = sklearn.tree.export_graphviz(clf, out_file=None, \n",
    "                                feature_names=X_train.columns.tolist(),  \n",
    "                                class_names=[\"DoS\", \"Scan\", \"Benign\", \"Exploit\"],  \n",
    "                                filled=True, rounded=True,  \n",
    "                                special_characters=True)\n",
    "    graph = graphviz.Source(dot_data)\n",
    "    graph.render(\"decision_tree_classifier_split_by_days\")"
   ],
   "metadata": {
    "collapsed": false,
    "ExecuteTime": {
     "end_time": "2023-09-17T14:39:07.481493900Z",
     "start_time": "2023-09-17T14:39:07.479479700Z"
    }
   },
   "id": "3922b66058d0bdf1"
  },
  {
   "cell_type": "code",
   "execution_count": 14,
   "outputs": [
    {
     "ename": "TypeError",
     "evalue": "listdir: path should be string, bytes, os.PathLike or None, not DataFrame",
     "output_type": "error",
     "traceback": [
      "\u001B[1;31m---------------------------------------------------------------------------\u001B[0m",
      "\u001B[1;31mTypeError\u001B[0m                                 Traceback (most recent call last)",
      "Cell \u001B[1;32mIn[14], line 3\u001B[0m\n\u001B[0;32m      1\u001B[0m path_to_files \u001B[38;5;241m=\u001B[39m \u001B[38;5;124m\"\u001B[39m\u001B[38;5;124m./MachineLearningCVE\u001B[39m\u001B[38;5;124m\"\u001B[39m\n\u001B[0;32m      2\u001B[0m logging\u001B[38;5;241m.\u001B[39minfo(\u001B[38;5;124m'\u001B[39m\u001B[38;5;124mPreprocessing data with splitmode=0.6\u001B[39m\u001B[38;5;124m'\u001B[39m)\n\u001B[1;32m----> 3\u001B[0m X_train, y_train, X_test, y_test \u001B[38;5;241m=\u001B[39m \u001B[43mpre_process_data\u001B[49m\u001B[43m(\u001B[49m\u001B[43mpath\u001B[49m\u001B[43m,\u001B[49m\u001B[43m \u001B[49m\u001B[43msplitmode\u001B[49m\u001B[38;5;241;43m=\u001B[39;49m\u001B[38;5;241;43m0.6\u001B[39;49m\u001B[43m)\u001B[49m\n\u001B[0;32m      4\u001B[0m logging\u001B[38;5;241m.\u001B[39minfo(\u001B[38;5;124m'\u001B[39m\u001B[38;5;124mTraining decision tree classifier\u001B[39m\u001B[38;5;124m'\u001B[39m)\n\u001B[0;32m      5\u001B[0m clf \u001B[38;5;241m=\u001B[39m train_decision_tree_classifier(X_train, y_train, X_test, y_test)\n",
      "Cell \u001B[1;32mIn[8], line 3\u001B[0m, in \u001B[0;36mpre_process_data\u001B[1;34m(dataset_path, splitmode)\u001B[0m\n\u001B[0;32m      2\u001B[0m \u001B[38;5;28;01mdef\u001B[39;00m \u001B[38;5;21mpre_process_data\u001B[39m(dataset_path, splitmode\u001B[38;5;241m=\u001B[39m\u001B[38;5;28;01mNone\u001B[39;00m):\n\u001B[1;32m----> 3\u001B[0m     train_set, test_set \u001B[38;5;241m=\u001B[39m \u001B[43mget_dataset\u001B[49m\u001B[43m(\u001B[49m\u001B[43mdataset_path\u001B[49m\u001B[43m,\u001B[49m\u001B[43m \u001B[49m\u001B[43msplitmode\u001B[49m\u001B[38;5;241;43m=\u001B[39;49m\u001B[43msplitmode\u001B[49m\u001B[43m)\u001B[49m\n\u001B[0;32m      4\u001B[0m     X_train, y_train \u001B[38;5;241m=\u001B[39m split_x_y(train_set)\n\u001B[0;32m      5\u001B[0m     X_test, y_test \u001B[38;5;241m=\u001B[39m split_x_y(test_set)\n",
      "Cell \u001B[1;32mIn[6], line 16\u001B[0m, in \u001B[0;36mget_dataset\u001B[1;34m(path_to_files, splitmode)\u001B[0m\n\u001B[0;32m     14\u001B[0m \u001B[38;5;28;01mif\u001B[39;00m splitmode:\n\u001B[0;32m     15\u001B[0m     df \u001B[38;5;241m=\u001B[39m merge_csv_files(path_to_files)\n\u001B[1;32m---> 16\u001B[0m     \u001B[43mpre_process_data\u001B[49m\u001B[43m(\u001B[49m\u001B[43mdf\u001B[49m\u001B[43m)\u001B[49m\n\u001B[0;32m     17\u001B[0m     df \u001B[38;5;241m=\u001B[39m sklearn\u001B[38;5;241m.\u001B[39mutils\u001B[38;5;241m.\u001B[39mshuffle(df)\n\u001B[0;32m     18\u001B[0m     split_index \u001B[38;5;241m=\u001B[39m \u001B[38;5;28mint\u001B[39m(\u001B[38;5;28mlen\u001B[39m(df) \u001B[38;5;241m*\u001B[39m splitmode)\n",
      "Cell \u001B[1;32mIn[8], line 3\u001B[0m, in \u001B[0;36mpre_process_data\u001B[1;34m(dataset_path, splitmode)\u001B[0m\n\u001B[0;32m      2\u001B[0m \u001B[38;5;28;01mdef\u001B[39;00m \u001B[38;5;21mpre_process_data\u001B[39m(dataset_path, splitmode\u001B[38;5;241m=\u001B[39m\u001B[38;5;28;01mNone\u001B[39;00m):\n\u001B[1;32m----> 3\u001B[0m     train_set, test_set \u001B[38;5;241m=\u001B[39m \u001B[43mget_dataset\u001B[49m\u001B[43m(\u001B[49m\u001B[43mdataset_path\u001B[49m\u001B[43m,\u001B[49m\u001B[43m \u001B[49m\u001B[43msplitmode\u001B[49m\u001B[38;5;241;43m=\u001B[39;49m\u001B[43msplitmode\u001B[49m\u001B[43m)\u001B[49m\n\u001B[0;32m      4\u001B[0m     X_train, y_train \u001B[38;5;241m=\u001B[39m split_x_y(train_set)\n\u001B[0;32m      5\u001B[0m     X_test, y_test \u001B[38;5;241m=\u001B[39m split_x_y(test_set)\n",
      "Cell \u001B[1;32mIn[6], line 22\u001B[0m, in \u001B[0;36mget_dataset\u001B[1;34m(path_to_files, splitmode)\u001B[0m\n\u001B[0;32m     20\u001B[0m     d_test \u001B[38;5;241m=\u001B[39m pd\u001B[38;5;241m.\u001B[39mconcat([d_test, df[split_index:]])\n\u001B[0;32m     21\u001B[0m \u001B[38;5;28;01melse\u001B[39;00m:\n\u001B[1;32m---> 22\u001B[0m     d_train, d_test \u001B[38;5;241m=\u001B[39m \u001B[43mtrain_test_by_days\u001B[49m\u001B[43m(\u001B[49m\u001B[43mpath_to_files\u001B[49m\u001B[43m)\u001B[49m\n\u001B[0;32m     23\u001B[0m \u001B[38;5;28;01mreturn\u001B[39;00m d_train, d_test\n",
      "Cell \u001B[1;32mIn[5], line 9\u001B[0m, in \u001B[0;36mtrain_test_by_days\u001B[1;34m(path_to_files)\u001B[0m\n\u001B[0;32m      7\u001B[0m d_train \u001B[38;5;241m=\u001B[39m pd\u001B[38;5;241m.\u001B[39mDataFrame()\n\u001B[0;32m      8\u001B[0m d_test \u001B[38;5;241m=\u001B[39m pd\u001B[38;5;241m.\u001B[39mDataFrame()\n\u001B[1;32m----> 9\u001B[0m \u001B[38;5;28;01mfor\u001B[39;00m file \u001B[38;5;129;01min\u001B[39;00m \u001B[43mos\u001B[49m\u001B[38;5;241;43m.\u001B[39;49m\u001B[43mlistdir\u001B[49m\u001B[43m(\u001B[49m\u001B[43mpath_to_files\u001B[49m\u001B[43m)\u001B[49m:\n\u001B[0;32m     10\u001B[0m     \u001B[38;5;28;01mif\u001B[39;00m file\u001B[38;5;241m.\u001B[39mendswith(\u001B[38;5;124m\"\u001B[39m\u001B[38;5;124m.csv\u001B[39m\u001B[38;5;124m\"\u001B[39m):\n\u001B[0;32m     11\u001B[0m         day \u001B[38;5;241m=\u001B[39m file\u001B[38;5;241m.\u001B[39msplit(\u001B[38;5;124m\"\u001B[39m\u001B[38;5;124m-\u001B[39m\u001B[38;5;124m\"\u001B[39m)[\u001B[38;5;241m0\u001B[39m]\n",
      "\u001B[1;31mTypeError\u001B[0m: listdir: path should be string, bytes, os.PathLike or None, not DataFrame"
     ]
    }
   ],
   "source": [
    "path = \"./MachineLearningCVE\"\n",
    "logging.info('Preprocessing data with splitmode=0.6')\n",
    "X_train, y_train, X_test, y_test = pre_process_data(path, splitmode=0.6)\n",
    "logging.info('Training decision tree classifier')\n",
    "clf = train_decision_tree_classifier(X_train, y_train, X_test, y_test)\n",
    "plot_decision_tree(clf, X_train)\n",
    "logging.info('Training random forest classifier with splitmode=0.6')\n",
    "train_random_forest_classifier(X_train, y_train, X_test, y_test)\n",
    "logging.info('Preprocessing data with splitmode=None')\n",
    "X_train, y_train, X_test, y_test = pre_process_data(path, splitmode=None)\n",
    "logging.info('Training decision tree classifier with splitmode=None')\n",
    "clf = train_decision_tree_classifier(X_train, y_train, X_test, y_test)\n",
    "plot_decision_tree(clf, X_train)\n",
    "logging.info('Training random forest classifier with splitmode=None')\n",
    "train_random_forest_classifier(X_train, y_train, X_test, y_test)"
   ],
   "metadata": {
    "collapsed": false,
    "ExecuteTime": {
     "end_time": "2023-09-17T14:42:51.244838200Z",
     "start_time": "2023-09-17T14:42:40.486089700Z"
    }
   },
   "id": "93278f1986bb922e"
  }
 ],
 "metadata": {
  "kernelspec": {
   "display_name": "Python 3",
   "language": "python",
   "name": "python3"
  },
  "language_info": {
   "codemirror_mode": {
    "name": "ipython",
    "version": 2
   },
   "file_extension": ".py",
   "mimetype": "text/x-python",
   "name": "python",
   "nbconvert_exporter": "python",
   "pygments_lexer": "ipython2",
   "version": "2.7.6"
  }
 },
 "nbformat": 4,
 "nbformat_minor": 5
}
