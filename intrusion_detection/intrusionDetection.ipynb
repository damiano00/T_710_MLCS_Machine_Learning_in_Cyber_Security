{
 "cells": [
  {
   "cell_type": "code",
   "execution_count": null,
   "id": "d9cee6fd60c2a930",
   "metadata": {
    "collapsed": true
   },
   "outputs": [],
   "source": [
    "'''\n",
    "Author: Damiano Pasquini\n",
    "email: damiano23@ru.is\n",
    "'''\n",
    "\n",
    "import os\n",
    "import pandas as pd\n",
    "import numpy as np\n",
    "import sklearn\n",
    "from sklearn.tree import DecisionTreeClassifier\n",
    "# from sklearn.model_selection import StratifiedShuffleSplit\n",
    "\n",
    "path = \"./MachineLearningCVE\""
   ]
  },
  {
   "cell_type": "code",
   "execution_count": null,
   "outputs": [],
   "source": [
    "\n",
    "#def preprocess_label(label):\n"
   ],
   "metadata": {
    "collapsed": false
   },
   "id": "6609b908207f9773"
  },
  {
   "cell_type": "code",
   "execution_count": 1,
   "outputs": [],
   "source": [
    "\n",
    "def preprocess_data(data):\n",
    "    # Preprocess the columns\n",
    "    # TODO: infinite values and NaN values are meaningful so they must be handled differently and not dropped\n",
    "    data.rename(columns=lambda x: x.strip(), inplace=True)  # Remove leading/trailing spaces from column names\n",
    "    data[\"Label\"] = data[\"Label\"].apply(lambda x: x.strip())\n",
    "    # change all values of Label column to either \"DoS\", \"Scan\", \"Benign\", or \"Exploit\"\n",
    "    #TODO: fix this\n",
    "    for row in data[\"Label\"]:\n",
    "        if \"DoS\" or \"DDoS\" in str(row).split():\n",
    "            data[\"Label\"][row] = \"DoS\"\n",
    "        elif row.contains(\"PortScan\"):\n",
    "            data[\"Label\"][row] = \"Scan\"\n",
    "        elif row.contains(\"BENIGN\"):\n",
    "            data[\"Label\"][row] = \"Benign\"\n",
    "        elif row.contains(\"Exploit\"):\n",
    "            data[\"Label\"][row] = \"Exploit\"\n",
    "    data.replace([np.inf, -np.inf], np.nan, inplace=True) # Replace inf values with NaN\n",
    "    data.dropna(inplace=True) # Drop rows with NaN values"
   ],
   "metadata": {
    "collapsed": false,
    "ExecuteTime": {
     "end_time": "2023-09-15T19:50:14.238807100Z",
     "start_time": "2023-09-15T19:50:14.220548800Z"
    }
   },
   "id": "188e9c38476a3557"
  },
  {
   "cell_type": "code",
   "execution_count": null,
   "outputs": [],
   "source": [
    "\n",
    "def merge_csv_files(path_to_csv_files, index=True, write_to_file=False):\n",
    "    csv_files = [f for f in os.listdir(path_to_csv_files) if f.endswith('.csv')]\n",
    "    dfs = [pd.read_csv(os.path.join(path_to_csv_files, f)) for f in csv_files]\n",
    "    combined_df = pd.concat(dfs, ignore_index=True)\n",
    "    if write_to_file:\n",
    "        combined_df.to_csv(\"./combined.csv\", index=index)\n",
    "    return combined_df"
   ],
   "metadata": {
    "collapsed": false
   },
   "id": "d533d0c26d8674f3"
  },
  {
   "cell_type": "code",
   "execution_count": null,
   "outputs": [],
   "source": [
    "\n",
    "def train_test_by_days(path_to_files, df):\n",
    "    d_train = pd.DataFrame()\n",
    "    d_test = pd.DataFrame()\n",
    "    for file in os.listdir(path_to_files):\n",
    "        if file.endswith(\".csv\"):\n",
    "            first_word = file.split()[0].strip()\n",
    "            if first_word in [\"Monday\", \"Tuesday\", \"Wednesday\"]:\n",
    "                d_train = pd.concat([d_train, df])\n",
    "            elif first_word in [\"Thursday\", \"Friday\"]:\n",
    "                d_test = pd.concat([d_test, df])\n",
    "    return d_train, d_test"
   ],
   "metadata": {
    "collapsed": false
   },
   "id": "d35a5286f90168bf"
  },
  {
   "cell_type": "code",
   "execution_count": null,
   "outputs": [],
   "source": [
    "\n",
    "def get_dataset(path_to_files, splitmode=None):\n",
    "    \"\"\"\n",
    "    Function to obtain the train dataset and the test dataset given the path where the csv files are,\n",
    "    and the percentage of training dataset\n",
    "    :param path_to_files: directory where the csv files are located \n",
    "    :param splitmode: number between 0 and 1, if specified indicates the percentage of the train set (d_train)  \n",
    "    :return: d_train and d_test, relatively training dataset and testing dataset\n",
    "    \"\"\"\n",
    "    # Ensure splitmode is within the valid range\n",
    "    if splitmode is not None and (splitmode < 0 or splitmode > 1):\n",
    "        raise ValueError(\"splitmode should be between 0 and 1\")\n",
    "    \n",
    "    df = merge_csv_files(path_to_files)\n",
    "    d_train = pd.DataFrame()\n",
    "    d_test = pd.DataFrame()\n",
    "    # Preprocess the columns of the combined dataframe\n",
    "    preprocess_data(df)\n",
    "    if splitmode is not None:\n",
    "        df = sklearn.utils.shuffle(df) # Shuffle the rows\n",
    "        # Split the processed data into two distinct Pandas data frames: one for the training set and one for the testing set.\n",
    "        split_index = int(len(df) * splitmode)\n",
    "        d_train = pd.concat([d_train, df[:split_index]])\n",
    "        d_test = pd.concat([d_test, df[split_index:]])\n",
    "    else:\n",
    "        # TODO: not working: error -> KeyError: 'Label'\n",
    "        d_train, d_test = train_test_by_days(path_to_files, df)\n",
    "    return d_train, d_test"
   ],
   "metadata": {
    "collapsed": false
   },
   "id": "408c64b667aca2fd"
  },
  {
   "cell_type": "code",
   "execution_count": null,
   "outputs": [],
   "source": [
    "def split_x_y(data):\n",
    "    \"\"\"\n",
    "    Split the dataset in data and labels (relatively X and y)\n",
    "    :param data: dataset\n",
    "    :return: tuple X and y, relatively data and labels for the given dataset\n",
    "    \"\"\"\n",
    "    X = data.drop(columns=[\"Label\"])\n",
    "    y = data[\"Label\"] # TODO: not working: error -> KeyError: 'Label' when running with splitmode\n",
    "    return X, y"
   ],
   "metadata": {
    "collapsed": false
   },
   "id": "initial_id"
  },
  {
   "cell_type": "code",
   "execution_count": null,
   "outputs": [],
   "source": [
    "'''\n",
    "Using scikit-learn, train a decision tree classifier on the training set.\n",
    "Test the model firs with splitmode = 0.6 and then without splitmode.\n",
    "'''\n",
    "\n",
    "print(\"Creating training and testing sets...\")\n",
    "train_data, test_data = get_dataset(path, splitmode=0.6)\n",
    "train_data.to_csv(\"train_data.csv\")\n",
    "test_data.to_csv(\"test_data.csv\")\n",
    "X_train, y_train = split_x_y(train_data)\n",
    "X_test, y_test = split_x_y(test_data)\n",
    "\n",
    "print(\"Training the decision tree classifier...\")\n",
    "clf = DecisionTreeClassifier()\n",
    "clf.fit(X_train, y_train)\n",
    "clf.predict(X_test)\n",
    "clf.predict(X_train)\n",
    "print(\"Accuracy on training set: \", clf.score(X_train, y_train))\n",
    "print(\"Accuracy on testing set: \", clf.score(X_test, y_test))"
   ],
   "metadata": {
    "collapsed": false
   },
   "id": "ae1e18e28ac5455"
  }
 ],
 "metadata": {
  "kernelspec": {
   "display_name": "Python 3",
   "language": "python",
   "name": "python3"
  },
  "language_info": {
   "codemirror_mode": {
    "name": "ipython",
    "version": 2
   },
   "file_extension": ".py",
   "mimetype": "text/x-python",
   "name": "python",
   "nbconvert_exporter": "python",
   "pygments_lexer": "ipython2",
   "version": "2.7.6"
  }
 },
 "nbformat": 4,
 "nbformat_minor": 5
}
