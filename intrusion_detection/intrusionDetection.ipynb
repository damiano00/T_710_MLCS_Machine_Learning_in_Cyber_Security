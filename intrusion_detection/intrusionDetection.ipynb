{
 "cells": [
  {
   "cell_type": "code",
   "execution_count": 13,
   "id": "d9cee6fd60c2a930",
   "metadata": {
    "collapsed": true,
    "ExecuteTime": {
     "end_time": "2023-09-17T12:11:32.075002100Z",
     "start_time": "2023-09-17T12:11:32.026257300Z"
    }
   },
   "outputs": [],
   "source": [
    "import graphviz\n",
    "\n",
    "'''\n",
    "Author: Damiano Pasquini\n",
    "email: damiano23@ru.is\n",
    "'''\n",
    "\n",
    "import os\n",
    "import pandas as pd\n",
    "import numpy as np\n",
    "import sklearn\n",
    "import matplotlib.pyplot as plt\n",
    "from sklearn.ensemble import RandomForestClassifier\n",
    "from sklearn.preprocessing import OneHotEncoder\n",
    "from sklearn import metrics\n",
    "from sklearn.tree import DecisionTreeClassifier\n",
    "from sklearn.metrics import classification_report, confusion_matrix, accuracy_score\n",
    "from sklearn.tree import plot_tree\n",
    "\n",
    "\n",
    "path = \"./MachineLearningCVE\"\n"
   ]
  },
  {
   "cell_type": "code",
   "execution_count": 2,
   "outputs": [],
   "source": [
    "\n",
    "def preprocess_data(data_frame):\n",
    "    \"\"\"\n",
    "    Preprocess the columns of the given dataframe\n",
    "    :param data_frame: data frame to preprocess\n",
    "    :return: the preprocessed dataframe\n",
    "    \"\"\"\n",
    "    data_frame.rename(columns=lambda x: x.strip(), inplace=True)  # Remove leading/trailing spaces from column names\n",
    "    data_frame[\"Label\"] = data_frame[\"Label\"].apply(lambda x: x.strip()) # Remove leading/trailing spaces from column values\n",
    "    data_frame.replace([np.inf], np.finfo(np.float32).max, inplace=True) # Replace inf values with max of float 32\n",
    "    data_frame.replace([-np.inf], -np.finfo(np.float32).min, inplace=True) # Replace inf values with min value of float 32\n",
    "    data_frame.fillna(0, inplace=True) # Replace all NaN values with 0\n",
    "    data_frame[\"Label\"] = data_frame[\"Label\"].apply(lambda x : preprocess_label_column(x)) # Preprocess the column \"Label\"\n",
    "    encoder = OneHotEncoder() # One hot encode the column \"Label\"\n",
    "    encoded_data = encoder.fit_transform(data_frame[['Label']])    \n",
    "    encoded_df = pd.DataFrame(encoded_data.toarray(), columns=encoder.get_feature_names_out(['Label']))\n",
    "    return encoded_df"
   ],
   "metadata": {
    "collapsed": false,
    "ExecuteTime": {
     "end_time": "2023-09-17T11:56:33.336561200Z",
     "start_time": "2023-09-17T11:56:33.336056Z"
    }
   },
   "id": "188e9c38476a3557"
  },
  {
   "cell_type": "code",
   "execution_count": 3,
   "outputs": [],
   "source": [
    "def preprocess_label_column(label):\n",
    "    \"\"\"\n",
    "    Transform the content of the column \"Label\". If the value is \"BENIGN\" then it is changed to \"Benign\", if it contains \"DoS\" then \n",
    "    it is changed to \"DoS\", if it contains \"PortScan\" then it is changed to \"Scan\", otherwise it is changed to \"Exploit\"\n",
    "    :param label: row of the column \"Label\" of the dataset\n",
    "    :return: the value to be assigned to the row of the column \"Label\" of the dataset\n",
    "    \"\"\"\n",
    "    if \"BENIGN\" in label:\n",
    "        return \"Benign\"\n",
    "    elif \"DoS\" in label:\n",
    "        return \"DoS\"\n",
    "    elif \"PortScan\" in label:\n",
    "        return \"Scan\"\n",
    "    else:\n",
    "        return \"Exploit\""
   ],
   "metadata": {
    "collapsed": false,
    "ExecuteTime": {
     "end_time": "2023-09-17T11:56:33.349763900Z",
     "start_time": "2023-09-17T11:56:33.336561200Z"
    }
   },
   "id": "aab6f1aa53a7de92"
  },
  {
   "cell_type": "code",
   "execution_count": 4,
   "outputs": [],
   "source": [
    "\n",
    "def merge_csv_files(path_to_csv_files, index=True, write_to_file=False):\n",
    "    \"\"\"\n",
    "    Merge all the csv files in the given directory into a single dataframe\n",
    "    :param path_to_csv_files: directory where the csv files are located\n",
    "    :param index: write row names if true\n",
    "    :param write_to_file: write the merged dataframe to a csv file if true\n",
    "    :return: the merged dataframe\n",
    "    \"\"\"\n",
    "    csv_files = [f for f in os.listdir(path_to_csv_files) if f.endswith('.csv')]\n",
    "    dfs = [pd.read_csv(os.path.join(path_to_csv_files, f)) for f in csv_files]\n",
    "    df = pd.concat(dfs, ignore_index=True)\n",
    "    if write_to_file:\n",
    "        df.to_csv(\"./combined.csv\", index=index)\n",
    "    return df"
   ],
   "metadata": {
    "collapsed": false,
    "ExecuteTime": {
     "end_time": "2023-09-17T11:56:33.356886300Z",
     "start_time": "2023-09-17T11:56:33.342953Z"
    }
   },
   "id": "d533d0c26d8674f3"
  },
  {
   "cell_type": "code",
   "execution_count": 5,
   "outputs": [],
   "source": [
    "def train_test_by_days(path_to_files):\n",
    "    \"\"\"\n",
    "    Split the dataset in training and testing dataset by days\n",
    "    :param path_to_files: directory where the csv files are located\n",
    "    :return: d_train and d_test, relatively training dataset and testing dataset\n",
    "    \"\"\"\n",
    "    d_train = pd.DataFrame()\n",
    "    d_test = pd.DataFrame()\n",
    "    for file in os.listdir(path_to_files):\n",
    "        if file.endswith(\".csv\"):\n",
    "            day = file.split(\"-\")[0]\n",
    "            with open(os.path.join(path_to_files, file), \"r\") as f:\n",
    "                df = pd.read_csv(f)\n",
    "                if day in [\"Monday\", \"Tuesday\", \"Wednesday\"]:\n",
    "                    d_train = pd.concat([d_train, df])\n",
    "                else:\n",
    "                    d_test = pd.concat([d_test, df])\n",
    "    preprocess_data(d_train)\n",
    "    preprocess_data(d_test)\n",
    "    # d_train.to_csv(\"train_data_by_days.csv\")\n",
    "    # d_test.to_csv(\"test_data_by_days.csv\")\n",
    "    return d_train, d_test"
   ],
   "metadata": {
    "collapsed": false,
    "ExecuteTime": {
     "end_time": "2023-09-17T11:56:33.357397800Z",
     "start_time": "2023-09-17T11:56:33.352274100Z"
    }
   },
   "id": "d35a5286f90168bf"
  },
  {
   "cell_type": "code",
   "execution_count": 6,
   "outputs": [],
   "source": [
    "\n",
    "def get_dataset(path_to_files, splitmode=None):\n",
    "    \"\"\"\n",
    "    Function to obtain the train dataset and the test dataset given the path where the csv files are,\n",
    "    and the percentage of training dataset\n",
    "    :param path_to_files: directory where the csv files are located \n",
    "    :param splitmode: number between 0 and 1, if specified indicates the percentage of the train set (d_train)  \n",
    "    :return: d_train and d_test, relatively training dataset and testing dataset\n",
    "    \"\"\"\n",
    "    if splitmode is not None and (splitmode < 0 or splitmode > 1):\n",
    "        raise ValueError(\"splitmode should be between 0 and 1\")\n",
    "    \n",
    "    d_train = pd.DataFrame()\n",
    "    d_test = pd.DataFrame()\n",
    "    if splitmode:\n",
    "        df = merge_csv_files(path_to_files)\n",
    "        preprocess_data(df)\n",
    "        df = sklearn.utils.shuffle(df)\n",
    "        split_index = int(len(df) * splitmode)\n",
    "        d_train = pd.concat([d_train, df[:split_index]])\n",
    "        d_test = pd.concat([d_test, df[split_index:]])\n",
    "    else:\n",
    "        d_train, d_test = train_test_by_days(path_to_files)\n",
    "    return d_train, d_test"
   ],
   "metadata": {
    "collapsed": false,
    "ExecuteTime": {
     "end_time": "2023-09-17T11:56:35.265513300Z",
     "start_time": "2023-09-17T11:56:35.262967Z"
    }
   },
   "id": "408c64b667aca2fd"
  },
  {
   "cell_type": "code",
   "execution_count": 7,
   "outputs": [],
   "source": [
    "def split_x_y(data):\n",
    "    \"\"\"\n",
    "    Split the dataset in data and labels (relatively X and y)\n",
    "    :param data: dataset\n",
    "    :return: tuple X and y, relatively data and labels for the given dataset\n",
    "    \"\"\"\n",
    "    X = data.drop(columns=[\"Label\"])\n",
    "    y = data[\"Label\"]\n",
    "    return X, y"
   ],
   "metadata": {
    "collapsed": false,
    "ExecuteTime": {
     "end_time": "2023-09-17T11:56:37.719160100Z",
     "start_time": "2023-09-17T11:56:37.713855100Z"
    }
   },
   "id": "initial_id"
  },
  {
   "cell_type": "code",
   "execution_count": 8,
   "outputs": [],
   "source": [
    "'''preprocess data with train set 60%'''\n",
    "train_set, test_set = get_dataset(path, splitmode=0.6)\n",
    "X_train, y_train = split_x_y(train_set)\n",
    "X_test, y_test = split_x_y(test_set)"
   ],
   "metadata": {
    "collapsed": false,
    "ExecuteTime": {
     "end_time": "2023-09-17T11:56:57.131503700Z",
     "start_time": "2023-09-17T11:56:40.305303Z"
    }
   },
   "id": "c9fd6b0013cff10"
  },
  {
   "cell_type": "code",
   "execution_count": 35,
   "outputs": [],
   "source": [
    "'''preprocess data splitting by days'''\n",
    "train_set, test_set = get_dataset(path)\n",
    "X_train, y_train = split_x_y(train_set)\n",
    "X_test, y_test = split_x_y(test_set)"
   ],
   "metadata": {
    "collapsed": false,
    "ExecuteTime": {
     "end_time": "2023-09-17T00:48:33.450743600Z",
     "start_time": "2023-09-17T00:48:17.474734100Z"
    }
   },
   "id": "2c0dedc974b3e33d"
  },
  {
   "cell_type": "code",
   "execution_count": 9,
   "outputs": [],
   "source": [
    "'''train the decision tree classifier'''\n",
    "clf = DecisionTreeClassifier()\n",
    "clf.fit(X_train, y_train)\n",
    "y_pred = clf.predict(X_test)"
   ],
   "metadata": {
    "collapsed": false,
    "ExecuteTime": {
     "end_time": "2023-09-17T11:59:06.006434500Z",
     "start_time": "2023-09-17T11:56:57.131503700Z"
    }
   },
   "id": "19b516cb08a26211"
  },
  {
   "cell_type": "code",
   "execution_count": 20,
   "outputs": [],
   "source": [
    "'''train the random forest classifier'''\n",
    "clf = RandomForestClassifier()\n",
    "clf.fit(X_train, y_train)\n",
    "y_pred = clf.predict(X_test)"
   ],
   "metadata": {
    "collapsed": false,
    "ExecuteTime": {
     "end_time": "2023-09-16T20:42:45.104549900Z",
     "start_time": "2023-09-16T20:33:04.466197200Z"
    }
   },
   "id": "ab66160c511cb3e8"
  },
  {
   "cell_type": "code",
   "execution_count": 10,
   "outputs": [
    {
     "name": "stdout",
     "output_type": "stream",
     "text": [
      "Accuracy:  0.9987035215111216\n",
      "              precision    recall  f1-score   support\n",
      "\n",
      "      Benign       1.00      1.00      1.00    909099\n",
      "         DoS       1.00      1.00      1.00    152419\n",
      "     Exploit       0.98      0.98      0.98      7152\n",
      "        Scan       0.99      0.99      0.99     63628\n",
      "\n",
      "    accuracy                           1.00   1132298\n",
      "   macro avg       0.99      0.99      0.99   1132298\n",
      "weighted avg       1.00      1.00      1.00   1132298\n"
     ]
    },
    {
     "data": {
      "text/plain": "<Figure size 640x480 with 2 Axes>",
      "image/png": "[encoded data removed]"
     },
     "metadata": {},
     "output_type": "display_data"
    }
   ],
   "source": [
    "'''Print accuracy, classification report and confusion matrix'''\n",
    "print(\"Accuracy: \", accuracy_score(y_test, y_pred))\n",
    "print(classification_report(y_test, y_pred, zero_division=0.0))\n",
    "cm = confusion_matrix(y_test, y_pred)\n",
    "cm = metrics.ConfusionMatrixDisplay(confusion_matrix = cm,\n",
    "                                    display_labels = [\"DoS\", \"Scan\", \"Benign\", \"Exploit\"])\n",
    "cm.plot()\n",
    "plt.show()"
   ],
   "metadata": {
    "collapsed": false,
    "ExecuteTime": {
     "end_time": "2023-09-17T12:03:31.451751700Z",
     "start_time": "2023-09-17T12:03:08.679379500Z"
    }
   },
   "id": "ae1e18e28ac5455"
  },
  {
   "cell_type": "code",
   "execution_count": 14,
   "outputs": [
    {
     "data": {
      "text/plain": "'decision_tree_classifier.pdf'"
     },
     "execution_count": 14,
     "metadata": {},
     "output_type": "execute_result"
    }
   ],
   "source": [
    "'''plt.figure(figsize=(12, 8))\n",
    "plot_tree(clf, feature_names=X_train.columns.tolist(), class_names=[\"DoS\", \"Scan\", \"Benign\", \"Exploit\"], filled=True, rounded=True)\n",
    "plt.title(\"Decision Tree Classifier - dataset split by days\")\n",
    "plt.show()'''\n",
    "\n",
    "'''plot the decision tree with graphviz and save it in a pdf file'''\n",
    "\n",
    "dot_data = sklearn.tree.export_graphviz(clf, out_file=None, \n",
    "                                feature_names=X_train.columns.tolist(),  \n",
    "                                class_names=[\"DoS\", \"Scan\", \"Benign\", \"Exploit\"],  \n",
    "                                filled=True, rounded=True,  \n",
    "                                special_characters=True)\n",
    "graph = graphviz.Source(dot_data)\n",
    "graph.render(\"decision_tree_classifier\")"
   ],
   "metadata": {
    "collapsed": false,
    "ExecuteTime": {
     "end_time": "2023-09-17T12:12:12.224487600Z",
     "start_time": "2023-09-17T12:11:50.627214200Z"
    }
   },
   "id": "3922b66058d0bdf1"
  }
 ],
 "metadata": {
  "kernelspec": {
   "display_name": "Python 3",
   "language": "python",
   "name": "python3"
  },
  "language_info": {
   "codemirror_mode": {
    "name": "ipython",
    "version": 2
   },
   "file_extension": ".py",
   "mimetype": "text/x-python",
   "name": "python",
   "nbconvert_exporter": "python",
   "pygments_lexer": "ipython2",
   "version": "2.7.6"
  }
 },
 "nbformat": 4,
 "nbformat_minor": 5
}
