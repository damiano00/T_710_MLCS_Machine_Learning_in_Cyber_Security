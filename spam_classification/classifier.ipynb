{
 "cells": [
  {
   "cell_type": "code",
   "execution_count": 52,
   "metadata": {
    "ExecuteTime": {
     "end_time": "2023-08-29T17:39:48.723237400Z",
     "start_time": "2023-08-29T17:39:48.719173900Z"
    }
   },
   "outputs": [],
   "source": [
    "import os, csv\n",
    "import pandas as pd\n",
    "from sklearn.datasets import make_classification\n",
    "import matplotlib.pyplot as plt\n",
    "from sklearn.model_selection import train_test_split\n",
    "from sklearn.naive_bayes import GaussianNB\n",
    "from sklearn.naive_bayes import MultinomialNB"
   ]
  },
  {
   "cell_type": "code",
   "execution_count": null,
   "metadata": {},
   "outputs": [],
   "source": [
    "# convert all txt files into a single csv file\n",
    "corpus = './corpus.csv'\n",
    "txt_files_folder = './train-mails'\n",
    "with open(corpus, 'w', newline='', encoding='utf-8') as csv_file:\n",
    "    csv_writer = csv.writer(csv_file)\n",
    "    csv_writer.writerow(['File Name', 'Content'])\n",
    "\n",
    "    for txt_filename in os.listdir(txt_files_folder):\n",
    "        if txt_filename.endswith('.txt'):\n",
    "            with open(os.path.join(txt_files_folder, txt_filename), 'r', encoding='utf-8') as txt_file:\n",
    "                content = txt_file.read()\n",
    "                csv_writer.writerow([txt_filename, content])"
   ]
  },
  {
   "cell_type": "code",
   "execution_count": null,
   "outputs": [],
   "source": [
    "# Create a dictionary of words (dropping all non-words like punctuation characters, single characters)\n",
    "# choosing the 2000 most frequent words from training set\n",
    "csv_file = pd.read_csv('./corpus.csv', encoding='utf-8')\n",
    "csv_file['Content'] = csv_file['Content'].str.replace(r'[^\\w\\s]+|(?<=\\s)\\S(?=\\s)|\\S(?<=\\s)','',regex=True)\n",
    "dictionary = {}\n",
    "for i in range(len(csv_file['Content'])):\n",
    "    #TODO: remove subject from dictionary\n",
    "    for word in csv_file['Content'][i].split():\n",
    "        if word not in dictionary:\n",
    "            if len(word) > 1:\n",
    "                dictionary[word] = 1\n",
    "        elif word in dictionary:\n",
    "            dictionary[word] += 1\n",
    "    del dictionary['Subject']\n",
    "    \n",
    "\n",
    "top_2000_words = sorted(dictionary.items(), key=lambda x: x[1], reverse=True)[:2000]\n",
    "sortedDictionary = dict(top_2000_words)\n",
    "for word in top_2000_words:\n",
    "    print(word)"
   ],
   "metadata": {
    "collapsed": false
   }
  },
  {
   "cell_type": "code",
   "execution_count": null,
   "outputs": [],
   "source": [
    "print(csv_file['Content'][0])"
   ],
   "metadata": {
    "collapsed": false
   }
  },
  {
   "cell_type": "code",
   "execution_count": null,
   "metadata": {},
   "outputs": [],
   "source": [
    "# Transform each mail into a word count vector basing on the dictionary of words\n",
    "#word_count_matrix = CountVectorizer(vocabulary=sortedDictionary.keys()).transform(csv_file['Content'])\n",
    "\n",
    "matrix = []\n",
    "\n",
    "for mail_index in range(len(csv_file['Content'])):\n",
    "    matrix.append([])\n",
    "    for key in sortedDictionary.keys():\n",
    "        word_counter = 0\n",
    "        for word in csv_file['Content'][mail_index].split():\n",
    "            if word == key:\n",
    "                word_counter += 1\n",
    "        matrix[-1].append(word_counter)\n",
    "\n",
    "print('Matrix dimensions:', len(matrix), 'x', len(matrix[0]))"
   ]
  },
  {
   "cell_type": "code",
   "execution_count": 50,
   "outputs": [
    {
     "name": "stdout",
     "output_type": "stream",
     "text": [
      "702\n"
     ]
    }
   ],
   "source": [
    "print(len(matrix))\n"
   ],
   "metadata": {
    "collapsed": false,
    "ExecuteTime": {
     "end_time": "2023-08-29T17:36:54.339951700Z",
     "start_time": "2023-08-29T17:36:54.335584Z"
    }
   }
  },
  {
   "cell_type": "code",
   "execution_count": null,
   "outputs": [],
   "source": [
    "# Train a Bayes classifier (MultinomialNB from sklearn.naive_bayes)\n",
    "# Check with the test set the classifier\n",
    "\n",
    "X, y = make_classification(\n",
    "    n_features=2000,\n",
    "    n_classes=2,\n",
    "    n_samples=702,\n",
    "    n_clusters_per_class=1,\n",
    ")\n",
    "\n",
    "plt.scatter(X[:, 0], X[:, 1], c=y, marker=\"*\")\n",
    "\n",
    "X_train, X_test, y_train, y_test = train_test_split(\n",
    "    X, y, test_size=0.33, random_state=125\n",
    ")\n",
    "\n",
    "\n",
    "model = MultinomialNB()\n",
    "\n",
    "model.fit(X_train, y_train)\n",
    "\n",
    "# TODO: finish implementation"
   ],
   "metadata": {
    "collapsed": false
   }
  }
 ],
 "metadata": {
  "kernelspec": {
   "display_name": "Python 3",
   "language": "python",
   "name": "python3"
  },
  "language_info": {
   "codemirror_mode": {
    "name": "ipython",
    "version": 3
   },
   "file_extension": ".py",
   "mimetype": "text/x-python",
   "name": "python",
   "nbconvert_exporter": "python",
   "pygments_lexer": "ipython3",
   "version": "3.11.2"
  },
  "orig_nbformat": 4
 },
 "nbformat": 4,
 "nbformat_minor": 2
}
