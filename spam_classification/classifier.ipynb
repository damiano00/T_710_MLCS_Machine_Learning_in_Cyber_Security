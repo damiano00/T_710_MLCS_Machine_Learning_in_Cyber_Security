{
 "cells": [
  {
   "cell_type": "code",
   "execution_count": 1,
   "metadata": {
    "ExecuteTime": {
     "end_time": "2023-08-26T15:52:35.998254900Z",
     "start_time": "2023-08-26T15:52:35.073343500Z"
    }
   },
   "outputs": [],
   "source": [
    "import os, csv\n",
    "import pandas as pd\n",
    "from sklearn.feature_extraction.text import CountVectorizer\n",
    "from sklearn.naive_bayes import MultinomialNB"
   ]
  },
  {
   "cell_type": "code",
   "execution_count": 4,
   "metadata": {
    "ExecuteTime": {
     "end_time": "2023-08-26T15:52:50.841478800Z",
     "start_time": "2023-08-26T15:52:50.747929900Z"
    }
   },
   "outputs": [],
   "source": [
    "# convert all txt files into a single csv file\n",
    "corpus = './corpus.csv'\n",
    "txt_files_folder = './train-mails'\n",
    "with open(corpus, 'w', newline='', encoding='utf-8') as csv_file:\n",
    "    csv_writer = csv.writer(csv_file)\n",
    "    csv_writer.writerow(['File Name', 'Content'])\n",
    "\n",
    "    for txt_filename in os.listdir(txt_files_folder):\n",
    "        if txt_filename.endswith('.txt'):\n",
    "            with open(os.path.join(txt_files_folder, txt_filename), 'r', encoding='utf-8') as txt_file:\n",
    "                content = txt_file.read()\n",
    "                csv_writer.writerow([txt_filename, content])"
   ]
  },
  {
   "cell_type": "code",
   "execution_count": 5,
   "metadata": {
    "ExecuteTime": {
     "end_time": "2023-08-26T15:52:57.546871900Z",
     "start_time": "2023-08-26T15:52:57.428384400Z"
    }
   },
   "outputs": [],
   "source": [
    "# Create a dictionary of words (dropping all non-words like punctuation characters, single characters),\n",
    "# choosing the 2000 most frequent words from training set\n",
    "\n",
    "csv_file = pd.read_csv('./corpus.csv', encoding='utf-8')\n",
    "dictionary = {}\n",
    "for i in range(len(csv_file['Content'])):\n",
    "    for word in csv_file['Content'][i].split():\n",
    "        if word not in dictionary:\n",
    "            if len(word) > 1 & word.isalpha():\n",
    "                dictionary[word] = 1\n",
    "        elif word in dictionary:\n",
    "            dictionary[word] += 1"
   ]
  },
  {
   "cell_type": "code",
   "execution_count": 6,
   "metadata": {
    "ExecuteTime": {
     "end_time": "2023-08-26T15:53:12.160711200Z",
     "start_time": "2023-08-26T15:53:11.996948300Z"
    }
   },
   "outputs": [],
   "source": [
    "# Transform each mail into a word count vector basing on the dictionary of words\n",
    "df = pd.read_csv('./corpus.csv', encoding='utf-8')\n",
    "email_contents = df['Content'].tolist()\n",
    "cv = CountVectorizer(vocabulary=dictionary.keys())\n",
    "word_count_vectors = cv.transform(email_contents)\n",
    "word_count_array = word_count_vectors.toarray()"
   ]
  },
  {
   "cell_type": "code",
   "execution_count": null,
   "outputs": [],
   "source": [],
   "metadata": {
    "collapsed": false
   }
  }
 ],
 "metadata": {
  "kernelspec": {
   "display_name": "Python 3",
   "language": "python",
   "name": "python3"
  },
  "language_info": {
   "codemirror_mode": {
    "name": "ipython",
    "version": 3
   },
   "file_extension": ".py",
   "mimetype": "text/x-python",
   "name": "python",
   "nbconvert_exporter": "python",
   "pygments_lexer": "ipython3",
   "version": "3.11.2"
  },
  "orig_nbformat": 4
 },
 "nbformat": 4,
 "nbformat_minor": 2
}
