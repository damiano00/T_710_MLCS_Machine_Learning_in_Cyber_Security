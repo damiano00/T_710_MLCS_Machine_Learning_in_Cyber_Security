{
 "cells": [
  {
   "cell_type": "code",
   "execution_count": null,
   "metadata": {},
   "outputs": [],
   "source": [
    "import os, csv, re\n",
    "import pandas as pd\n",
    "from sklearn.feature_extraction.text import CountVectorizer\n",
    "from sklearn.naive_bayes import MultinomialNB\n",
    "from sklearn.feature_extraction.text import CountVectorizer\n",
    "from sklearn.naive_bayes import MultinomialNB\n",
    "from sklearn.pipeline import Pipeline"
   ]
  },
  {
   "cell_type": "code",
   "execution_count": null,
   "metadata": {},
   "outputs": [],
   "source": [
    "# convert all txt files into a single csv file\n",
    "corpus = './corpus.csv'\n",
    "txt_files_folder = './train-mails'\n",
    "with open(corpus, 'w', newline='', encoding='utf-8') as csv_file:\n",
    "    csv_writer = csv.writer(csv_file)\n",
    "    csv_writer.writerow(['File Name', 'Content'])\n",
    "\n",
    "    for txt_filename in os.listdir(txt_files_folder):\n",
    "        if txt_filename.endswith('.txt'):\n",
    "            with open(os.path.join(txt_files_folder, txt_filename), 'r', encoding='utf-8') as txt_file:\n",
    "                content = txt_file.read()\n",
    "                csv_writer.writerow([txt_filename, content])"
   ]
  },
  {
   "cell_type": "code",
   "execution_count": null,
   "outputs": [],
   "source": [
    "# Create a dictionary of words (dropping all non-words like punctuation characters, single characters)\n",
    "# choosing the 2000 most frequent words from training set\n",
    "csv_file = pd.read_csv('./corpus.csv', encoding='utf-8')\n",
    "csv_file['Content'] = csv_file['Content'].str.replace(r'[^\\w\\s]+|(?<=\\s)\\S(?=\\s)|\\S(?<=\\s)','',regex=True)\n",
    "dictionary = {}\n",
    "for i in range(len(csv_file['Content'])):\n",
    "    #TODO: remove all non-words like punctuation characters, single characters\n",
    "    for word in csv_file['Content'][i].split():\n",
    "        if word not in dictionary:\n",
    "            if len(word) > 1:\n",
    "                dictionary[word] = 1\n",
    "        elif word in dictionary:\n",
    "            dictionary[word] += 1\n",
    "\n",
    "top_2000_words = sorted(dictionary.items(), key=lambda x: x[1], reverse=True)[:2000]\n",
    "sortedDictionary = dict(top_2000_words)"
   ],
   "metadata": {
    "collapsed": false
   }
  },
  {
   "cell_type": "code",
   "execution_count": 22,
   "metadata": {
    "ExecuteTime": {
     "end_time": "2023-08-27T13:32:43.171545100Z",
     "start_time": "2023-08-27T13:32:43.155412100Z"
    }
   },
   "outputs": [
    {
     "ename": "TypeError",
     "evalue": "'int' object is not iterable",
     "output_type": "error",
     "traceback": [
      "\u001B[1;31m---------------------------------------------------------------------------\u001B[0m",
      "\u001B[1;31mTypeError\u001B[0m                                 Traceback (most recent call last)",
      "Cell \u001B[1;32mIn[22], line 6\u001B[0m\n\u001B[0;32m      4\u001B[0m matrix \u001B[38;5;241m=\u001B[39m []\n\u001B[0;32m      5\u001B[0m \u001B[38;5;28;01mfor\u001B[39;00m mail \u001B[38;5;129;01min\u001B[39;00m \u001B[38;5;28mrange\u001B[39m(\u001B[38;5;28mlen\u001B[39m(csv_file[\u001B[38;5;124m'\u001B[39m\u001B[38;5;124mContent\u001B[39m\u001B[38;5;124m'\u001B[39m])):\n\u001B[1;32m----> 6\u001B[0m     \u001B[38;5;28;01mfor\u001B[39;00m word \u001B[38;5;129;01min\u001B[39;00m mail:\n\u001B[0;32m      7\u001B[0m         matrix[mail][word] \u001B[38;5;241m=\u001B[39m csv_file[\u001B[38;5;124m'\u001B[39m\u001B[38;5;124mContent\u001B[39m\u001B[38;5;124m'\u001B[39m]\n\u001B[0;32m      9\u001B[0m \u001B[38;5;28mprint\u001B[39m(matrix)\n",
      "\u001B[1;31mTypeError\u001B[0m: 'int' object is not iterable"
     ]
    }
   ],
   "source": [
    "# Transform each mail into a word count vector basing on the dictionary of words\n",
    "#word_count_matrix = CountVectorizer(vocabulary=sortedDictionary.keys()).transform(csv_file['Content'])\n",
    "\n",
    "matrix = []\n",
    "for mail in range(len(csv_file['Content'])):\n",
    "    for word in mail:\n",
    "        matrix[mail][word] = csv_file['Content']\n",
    "        \n",
    "print(matrix)\n",
    "'''\n",
    "for content in matrix:\n",
    "    for word in content:\n",
    "        if word not in sortedDictionary.keys():\n",
    "            wordCountMatrix[content][word] = 0\n",
    "        else:\n",
    "            wordCountMatrix[content][word] = sortedDictionary[word]'''\n",
    "\n",
    "print(csv_file['Content'][1][:500])"
   ]
  },
  {
   "cell_type": "code",
   "execution_count": null,
   "outputs": [],
   "source": [
    "'''for i in range(len(top_2000_words)):\n",
    "    print(top_2000_words[i])\n",
    "print(word_count_matrix.shape)\n",
    "print(word_count_matrix.toarray()[1][:500])'''"
   ],
   "metadata": {
    "collapsed": false
   }
  }
 ],
 "metadata": {
  "kernelspec": {
   "display_name": "Python 3",
   "language": "python",
   "name": "python3"
  },
  "language_info": {
   "codemirror_mode": {
    "name": "ipython",
    "version": 3
   },
   "file_extension": ".py",
   "mimetype": "text/x-python",
   "name": "python",
   "nbconvert_exporter": "python",
   "pygments_lexer": "ipython3",
   "version": "3.11.2"
  },
  "orig_nbformat": 4
 },
 "nbformat": 4,
 "nbformat_minor": 2
}
